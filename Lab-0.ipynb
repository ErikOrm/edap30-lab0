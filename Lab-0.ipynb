{
 "cells": [
  {
   "cell_type": "markdown",
   "id": "58769805-9e8a-4c6a-8c3c-33dad46a9e59",
   "metadata": {},
   "source": [
    "![Diamond plot](diamond.png)"
   ]
  },
  {
   "cell_type": "markdown",
   "id": "03d9c600-9426-450f-a3ba-ba6fa9295e07",
   "metadata": {},
   "source": [
    "\n",
    "# LAB 0: Diamonds on our minds\n",
    "\n",
    "This is just a mini-introduction lab to make sure that you have a working python environment.\n",
    "\n",
    "Before we start, I would recommend finding a coding environment you are comfortable in. \n",
    "Both PyCharm and VSCode has free student licenses that also support notebooks. I would \n",
    "further recommend setting up a virtual environment for cleanliness. \n",
    "\n",
    "Alright, let's go!"
   ]
  },
  {
   "cell_type": "code",
   "execution_count": null,
   "id": "1440ae7c-34f6-436e-a9fc-9d897fcb8656",
   "metadata": {},
   "outputs": [],
   "source": [
    "# Let us first make sure that we have all packages installed\n",
    "\n",
    "import numpy as np\n",
    "import torch\n",
    "import sklearn\n",
    "import matplotlib.pyplot as plt\n",
    "import seaborn as sns\n",
    "import pandas as pd"
   ]
  },
  {
   "cell_type": "markdown",
   "id": "aa481014-d041-4276-87e5-a89cac7823a0",
   "metadata": {},
   "source": [
    "First things first - let us get some data to play around with. We are going to use a data set about the pricing of diamonds."
   ]
  },
  {
   "cell_type": "code",
   "execution_count": null,
   "id": "b99ecc4c-6d63-4fe6-a167-8ae6bb6f9852",
   "metadata": {
    "scrolled": true
   },
   "outputs": [],
   "source": [
    "data = sns.load_dataset(\"diamonds\")\n",
    "data[\"cut\"] = data[\"cut\"].cat.codes\n",
    "data[\"color\"] = data[\"color\"].cat.codes\n",
    "y = data[\"price\"]\n",
    "X = data.drop([\"price\", \"clarity\"], axis=1)\n",
    "\n",
    "X.head()"
   ]
  },
  {
   "cell_type": "markdown",
   "id": "6a8b4208-ac7e-4133-ad4d-4c2cb57291fd",
   "metadata": {},
   "source": [
    "Ok, so once we have a numeric table. The next thing we do is *normalizing* the Input data X and *standardizing* the output data y. Go ahead and do that now."
   ]
  },
  {
   "cell_type": "code",
   "execution_count": null,
   "id": "aa0eb4c6-24b2-430d-81d1-a75f2f00eafc",
   "metadata": {},
   "outputs": [],
   "source": [
    "## normalize / standardize the output data:\n",
    "... #TODO!"
   ]
  },
  {
   "cell_type": "markdown",
   "id": "ccab3bd7-1dcd-4aa9-8c6c-e6cca1c90b7a",
   "metadata": {},
   "source": [
    "The next thing we do is splitting the data into a train and a test set. Use sklearn.model_selection.train_test_split().\n",
    "- How large is the data set?\n",
    "- What would be a reasonable train-test split?"
   ]
  },
  {
   "cell_type": "code",
   "execution_count": null,
   "id": "6527034d-92a4-4f15-9021-a821b3c16a1d",
   "metadata": {},
   "outputs": [],
   "source": [
    "(\n",
    "    X_train,\n",
    "    X_test,\n",
    "    y_train,\n",
    "    y_test\n",
    ") = ...  #TODO"
   ]
  },
  {
   "cell_type": "markdown",
   "id": "7d8c8611-e309-49e8-a1c2-52da193d7105",
   "metadata": {},
   "source": [
    "Alright, so we have some data. Now let us make a linear regression model. You can code your own or you are very welcome to use the LinearRegressor from sklearn.linear_model. Regardless, the goal is simply to fit a linear model on the train data and then predict the output for the test data."
   ]
  },
  {
   "cell_type": "code",
   "execution_count": null,
   "id": "1b0ab8b6-211c-4762-bbd3-418b1e974d47",
   "metadata": {},
   "outputs": [],
   "source": [
    "## Create and train your linear regressor\n",
    "... #TODO!\n",
    "\n",
    "## Predict the output of the test data\n",
    "y_pred = ... #TODO!"
   ]
  },
  {
   "cell_type": "markdown",
   "id": "be454371-1ef9-47ac-b3bf-bab6bffc0be9",
   "metadata": {},
   "source": [
    "Ok, once we have made our prediction, let us make a simple plot to see what is going on. Our data is multidimensional, so plotting the actual line is not gonna be easy. Instead, let us make a scatter plot with predictions on one axis and try values on the other. "
   ]
  },
  {
   "cell_type": "code",
   "execution_count": null,
   "id": "7ba04bb4-918e-4b70-85fc-b255173fb5cc",
   "metadata": {},
   "outputs": [],
   "source": [
    "## Make the parity plot described above\n",
    "... #TODO!"
   ]
  },
  {
   "cell_type": "markdown",
   "id": "226b2f66-329c-4ead-90ba-638cda0344f9",
   "metadata": {},
   "source": [
    "Alright, we are nearing the end of of this small task. \n",
    "- What loss function did you use for the linear regressor?\n",
    "\n",
    "As the last thing, calculate the training error and the test error for your classifier."
   ]
  },
  {
   "cell_type": "code",
   "execution_count": null,
   "id": "6e2598ff-fd05-42db-be6a-2043065637f9",
   "metadata": {},
   "outputs": [],
   "source": [
    "## What is your training and test error?\n",
    "... # TODO!"
   ]
  },
  {
   "cell_type": "markdown",
   "id": "1966a82d-9785-481d-8509-1e2a6c1f1575",
   "metadata": {},
   "source": [
    "What could you do to make this model better?"
   ]
  }
 ],
 "metadata": {
  "kernelspec": {
   "display_name": "Python 3 (ipykernel)",
   "language": "python",
   "name": "python3"
  },
  "language_info": {
   "codemirror_mode": {
    "name": "ipython",
    "version": 3
   },
   "file_extension": ".py",
   "mimetype": "text/x-python",
   "name": "python",
   "nbconvert_exporter": "python",
   "pygments_lexer": "ipython3",
   "version": "3.11.2"
  }
 },
 "nbformat": 4,
 "nbformat_minor": 5
}
